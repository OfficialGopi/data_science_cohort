{
  "nbformat": 4,
  "nbformat_minor": 0,
  "metadata": {
    "colab": {
      "provenance": [],
      "collapsed_sections": [
        "E0fz-Ni3Tk65",
        "-Eb-JAz1JOLl",
        "pOYXH8lQLXy4",
        "ifBL00beN94a",
        "C5P5icTePCok"
      ],
      "authorship_tag": "ABX9TyNVeuaYbvK1ClwXIkiWQ8t1",
      "include_colab_link": true
    },
    "kernelspec": {
      "name": "python3",
      "display_name": "Python 3"
    },
    "language_info": {
      "name": "python"
    }
  },
  "cells": [
    {
      "cell_type": "markdown",
      "metadata": {
        "id": "view-in-github",
        "colab_type": "text"
      },
      "source": [
        "<a href=\"https://colab.research.google.com/github/OfficialGopi/data_science_cohort/blob/main/data_science_01_15_04_2025.ipynb\" target=\"_parent\"><img src=\"https://colab.research.google.com/assets/colab-badge.svg\" alt=\"Open In Colab\"/></a>"
      ]
    },
    {
      "cell_type": "markdown",
      "source": [
        "# ***PYTHON FOUNDATIONS***"
      ],
      "metadata": {
        "id": "fbFa2DrOI3SN"
      }
    },
    {
      "cell_type": "markdown",
      "source": [
        "## FUNCTIONS\n",
        "    Built-in funtion and User-defined funtions"
      ],
      "metadata": {
        "id": "E0fz-Ni3Tk65"
      }
    },
    {
      "cell_type": "markdown",
      "source": [
        "### ***print() funtion -> Display in the screen***"
      ],
      "metadata": {
        "id": "-Eb-JAz1JOLl"
      }
    },
    {
      "cell_type": "code",
      "execution_count": 5,
      "metadata": {
        "colab": {
          "base_uri": "https://localhost:8080/"
        },
        "id": "b5qCBKf2GUdm",
        "outputId": "e794d149-56ef-4d2c-b725-20bdb032fb4a"
      },
      "outputs": [
        {
          "output_type": "stream",
          "name": "stdout",
          "text": [
            "Hello World\n"
          ]
        }
      ],
      "source": [
        "print(\"Hello World\")"
      ]
    },
    {
      "cell_type": "markdown",
      "source": [
        "**End Parameter**"
      ],
      "metadata": {
        "id": "SSHuWWHnKyxM"
      }
    },
    {
      "cell_type": "code",
      "source": [
        "print(\"Hello\")\n",
        "print(\"World\")"
      ],
      "metadata": {
        "colab": {
          "base_uri": "https://localhost:8080/"
        },
        "id": "7Qfq1_XcJ4bI",
        "outputId": "80af0600-fa4f-4527-8d17-89b2b79aedf5"
      },
      "execution_count": 2,
      "outputs": [
        {
          "output_type": "stream",
          "name": "stdout",
          "text": [
            "Hello\n",
            "World\n"
          ]
        }
      ]
    },
    {
      "cell_type": "markdown",
      "source": [
        "By default print funtion uses the end parameter as new line"
      ],
      "metadata": {
        "id": "UgudIBZ5KJSR"
      }
    },
    {
      "cell_type": "code",
      "source": [
        "print(\"Hello\", end=\"-\")\n",
        "print(\"World\")"
      ],
      "metadata": {
        "colab": {
          "base_uri": "https://localhost:8080/"
        },
        "id": "TXnE32EdJ9LY",
        "outputId": "5bd1a757-f612-4694-e909-45bcf6dc16d3"
      },
      "execution_count": 8,
      "outputs": [
        {
          "output_type": "stream",
          "name": "stdout",
          "text": [
            "Hello-World\n"
          ]
        }
      ]
    },
    {
      "cell_type": "markdown",
      "source": [
        "**Sep Parameter**\n"
      ],
      "metadata": {
        "id": "PC-pNHteK2Pz"
      }
    },
    {
      "cell_type": "code",
      "source": [
        "print(\"Gopikanta\",\"Mondal\")"
      ],
      "metadata": {
        "colab": {
          "base_uri": "https://localhost:8080/"
        },
        "id": "GojM6zKjK7V1",
        "outputId": "f369658b-450e-4514-932f-9fe3454d6111"
      },
      "execution_count": 9,
      "outputs": [
        {
          "output_type": "stream",
          "name": "stdout",
          "text": [
            "Gopikanta Mondal\n"
          ]
        }
      ]
    },
    {
      "cell_type": "markdown",
      "source": [
        "By default sep parameter uses the sep parameter as white space"
      ],
      "metadata": {
        "id": "85jmCD19LJY9"
      }
    },
    {
      "cell_type": "code",
      "source": [
        "print(\"Gopikanta\",\"Mondal\",sep='-')"
      ],
      "metadata": {
        "colab": {
          "base_uri": "https://localhost:8080/"
        },
        "id": "QhbZsqrNLBGV",
        "outputId": "f19fea31-7a08-4fc0-d6e7-eefac11eb20f"
      },
      "execution_count": 10,
      "outputs": [
        {
          "output_type": "stream",
          "name": "stdout",
          "text": [
            "Gopikanta-Mondal\n"
          ]
        }
      ]
    },
    {
      "cell_type": "markdown",
      "source": [
        "### ***input() function -> Taking input from user***\n",
        "\n"
      ],
      "metadata": {
        "id": "pOYXH8lQLXy4"
      }
    },
    {
      "cell_type": "code",
      "source": [
        "user_name = input(\"Enter your name : \")\n",
        "print(\"Your name is\",user_name)"
      ],
      "metadata": {
        "colab": {
          "base_uri": "https://localhost:8080/"
        },
        "id": "hITCGMIwLftH",
        "outputId": "57624d04-6c39-4997-c276-56069ddf4c6b"
      },
      "execution_count": 11,
      "outputs": [
        {
          "output_type": "stream",
          "name": "stdout",
          "text": [
            "Enter your name : Gopi\n",
            "Your name is  Gopi\n"
          ]
        }
      ]
    },
    {
      "cell_type": "markdown",
      "source": [
        "Type of the user_name is string"
      ],
      "metadata": {
        "id": "A0oOIJTxL09h"
      }
    },
    {
      "cell_type": "markdown",
      "source": [],
      "metadata": {
        "id": "nm0P0b7WN88K"
      }
    },
    {
      "cell_type": "markdown",
      "source": [
        "## ***comments***"
      ],
      "metadata": {
        "id": "ifBL00beN94a"
      }
    },
    {
      "cell_type": "markdown",
      "source": [
        "Comments are one of the most important thing to understand the code for other devs\n"
      ],
      "metadata": {
        "id": "K0BjgaHXOGtB"
      }
    },
    {
      "cell_type": "code",
      "source": [
        "#This is a single line comment\n",
        "print(\"Comments are not executed in codes\")"
      ],
      "metadata": {
        "colab": {
          "base_uri": "https://localhost:8080/"
        },
        "id": "JenIGy8wOQMD",
        "outputId": "3067a687-6cff-4181-cfff-d6008b22f3a9"
      },
      "execution_count": 13,
      "outputs": [
        {
          "output_type": "stream",
          "name": "stdout",
          "text": [
            "Comments are not executed in codes\n"
          ]
        }
      ]
    },
    {
      "cell_type": "code",
      "source": [
        "'''\n",
        "This is a multi line comment,\n",
        "For documenting , it is useful\n",
        "'''\n",
        "\n",
        "print(\"Useful for documenting\")"
      ],
      "metadata": {
        "colab": {
          "base_uri": "https://localhost:8080/"
        },
        "id": "IuK6EuBzOgpL",
        "outputId": "58feecac-c176-4a76-acab-3030f9565257"
      },
      "execution_count": 12,
      "outputs": [
        {
          "output_type": "stream",
          "name": "stdout",
          "text": [
            "Useful for documenting\n"
          ]
        }
      ]
    },
    {
      "cell_type": "code",
      "source": [],
      "metadata": {
        "id": "Gme0P801PBgF"
      },
      "execution_count": null,
      "outputs": []
    },
    {
      "cell_type": "code",
      "source": [],
      "metadata": {
        "id": "O9xB9fEiPf33"
      },
      "execution_count": null,
      "outputs": []
    },
    {
      "cell_type": "markdown",
      "source": [
        "## ***Indentation***"
      ],
      "metadata": {
        "id": "C5P5icTePCok"
      }
    },
    {
      "cell_type": "markdown",
      "source": [
        "In Python here is no curly braces like other languages. Here indentation is the thing to structure a code block"
      ],
      "metadata": {
        "id": "dUgG-AwtPWzX"
      }
    },
    {
      "cell_type": "code",
      "source": [
        "x=10\n",
        "if(x>11):\n",
        "  print(\"Greater\")\n",
        "else:\n",
        "  print(\"Lower\")"
      ],
      "metadata": {
        "id": "JK7kL5ssPHAt"
      },
      "execution_count": null,
      "outputs": []
    },
    {
      "cell_type": "markdown",
      "source": [
        "## ***Variables***"
      ],
      "metadata": {
        "id": "z3kzVRRfSh08"
      }
    },
    {
      "cell_type": "markdown",
      "source": [
        "Variables is what contains some data.\n",
        "\n",
        "Legal nanes of variables :\n",
        "\n",
        "          - a-z , A-Z , 0-9 First letter cannnot be number. Start with letter or _ , Cannot be keywords\n",
        "\n",
        "What is keywords : just like built in funtions -> Used by python itself. Cannot define at their names\n",
        "\n",
        "\n",
        "Variables should be of real names not like x , y etc.\n",
        "\n",
        "e.g:- name of a user variable can be user_name"
      ],
      "metadata": {
        "id": "R2K2BTlUSoX9"
      }
    },
    {
      "cell_type": "code",
      "source": [
        "x=\"Gopi\"\n",
        "name=\"Gopi\" #name variable is better"
      ],
      "metadata": {
        "id": "etG0bn8USm_l"
      },
      "execution_count": null,
      "outputs": []
    },
    {
      "cell_type": "markdown",
      "source": [
        "### Data Types\n",
        "\n",
        "  - number (int, float , complex number=>iota is derived as j in python)\n",
        "  - string\n",
        "  - list"
      ],
      "metadata": {
        "id": "OY-5__I8UsAe"
      }
    },
    {
      "cell_type": "code",
      "source": [
        "#Integer\n",
        "x=10\n",
        "print(type(x))\n",
        "\n",
        "#Float\n",
        "y=11.1\n",
        "print(type(y))\n",
        "\n",
        "#Complex number\n",
        "z=10+7j #z.conjugate , z.real , z.imag are conjugate , real and imaginary values\n",
        "print(type(z))\n",
        "\n",
        "#String\n",
        "name=\"Gopi\"\n",
        "print(type(name))\n",
        "\n",
        "\n"
      ],
      "metadata": {
        "colab": {
          "base_uri": "https://localhost:8080/"
        },
        "id": "-qzjagTNVCvP",
        "outputId": "ef23eee3-91e9-49aa-a85a-82feff385722"
      },
      "execution_count": 18,
      "outputs": [
        {
          "output_type": "stream",
          "name": "stdout",
          "text": [
            "<class 'int'>\n",
            "<class 'float'>\n",
            "<class 'complex'>\n",
            "<class 'str'>\n"
          ]
        }
      ]
    }
  ]
}